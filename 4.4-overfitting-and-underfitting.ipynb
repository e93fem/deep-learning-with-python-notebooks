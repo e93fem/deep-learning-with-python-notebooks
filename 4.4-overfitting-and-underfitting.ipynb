{
 "cells": [
  {
   "cell_type": "code",
   "execution_count": 1,
   "metadata": {},
   "outputs": [
    {
     "name": "stderr",
     "output_type": "stream",
     "text": [
      "Using TensorFlow backend.\n"
     ]
    },
    {
     "data": {
      "text/plain": [
       "'2.2.4'"
      ]
     },
     "execution_count": 1,
     "metadata": {},
     "output_type": "execute_result"
    }
   ],
   "source": [
    "import keras\n",
    "keras.__version__"
   ]
  },
  {
   "cell_type": "markdown",
   "metadata": {},
   "source": [
    "# Overfitting and underfitting\n",
    "\n",
    "This notebook contains the code samples found in Chapter 3, Section 6 of [Deep Learning with Python](https://www.manning.com/books/deep-learning-with-python?a_aid=keras&a_bid=76564dff). Note that the original text features far more content, in particular further explanations and figures: in this notebook, you will only find source code and related comments.\n",
    "\n",
    "----\n",
    "\n",
    "\n",
    "In all the examples we saw in the previous chapter -- movie review sentiment prediction, topic classification, and house price regression -- \n",
    "we could notice that the performance of our model on the held-out validation data would always peak after a few epochs and would then start \n",
    "degrading, i.e. our model would quickly start to _overfit_ to the training data. Overfitting happens in every single machine learning \n",
    "problem. Learning how to deal with overfitting is essential to mastering machine learning.\n",
    "\n",
    "The fundamental issue in machine learning is the tension between optimization and generalization. \"Optimization\" refers to the process of \n",
    "adjusting a model to get the best performance possible on the training data (the \"learning\" in \"machine learning\"), while \"generalization\" \n",
    "refers to how well the trained model would perform on data it has never seen before. The goal of the game is to get good generalization, of \n",
    "course, but you do not control generalization; you can only adjust the model based on its training data.\n",
    "\n",
    "At the beginning of training, optimization and generalization are correlated: the lower your loss on training data, the lower your loss on \n",
    "test data. While this is happening, your model is said to be _under-fit_: there is still progress to be made; the network hasn't yet \n",
    "modeled all relevant patterns in the training data. But after a certain number of iterations on the training data, generalization stops \n",
    "improving, validation metrics stall then start degrading: the model is then starting to over-fit, i.e. is it starting to learn patterns \n",
    "that are specific to the training data but that are misleading or irrelevant when it comes to new data.\n",
    "\n",
    "To prevent a model from learning misleading or irrelevant patterns found in the training data, _the best solution is of course to get \n",
    "more training data_. A model trained on more data will naturally generalize better. When that is no longer possible, the next best solution \n",
    "is to modulate the quantity of information that your model is allowed to store, or to add constraints on what information it is allowed to \n",
    "store. If a network can only afford to memorize a small number of patterns, the optimization process will force it to focus on the most \n",
    "prominent patterns, which have a better chance of generalizing well.\n",
    "\n",
    "The processing of fighting overfitting in this way is called _regularization_. Let's review some of the most common regularization \n",
    "techniques, and let's apply them in practice to improve our movie classification model from  the previous chapter."
   ]
  },
  {
   "cell_type": "markdown",
   "metadata": {},
   "source": [
    "Note: in this notebook we will be using the IMDB test set as our validation set. It doesn't matter in this context.\n",
    "\n",
    "Let's prepare the data using the code from Chapter 3, Section 5:"
   ]
  },
  {
   "cell_type": "code",
   "execution_count": 3,
   "metadata": {},
   "outputs": [],
   "source": [
    "from keras.datasets import imdb\n",
    "import numpy as np\n",
    "\n",
    "# (train_data, train_labels), (test_data, test_labels) = imdb.load_data(num_words=10000)\n",
    "import numpy as np\n",
    "# save np.load\n",
    "np_load_old = np.load\n",
    "\n",
    "# modify the default parameters of np.load\n",
    "np.load = lambda *a,**k: np_load_old(*a, allow_pickle=True, **k)\n",
    "\n",
    "# call load_data with allow_pickle implicitly set to true\n",
    "(train_data, train_labels), (test_data, test_labels) = imdb.load_data(num_words=10000)\n",
    "\n",
    "# restore np.load for future normal usage\n",
    "np.load = np_load_old\n",
    "def vectorize_sequences(sequences, dimension=10000):\n",
    "    # Create an all-zero matrix of shape (len(sequences), dimension)\n",
    "    results = np.zeros((len(sequences), dimension))\n",
    "    for i, sequence in enumerate(sequences):\n",
    "        results[i, sequence] = 1.  # set specific indices of results[i] to 1s\n",
    "    return results\n",
    "\n",
    "# Our vectorized training data\n",
    "x_train = vectorize_sequences(train_data)\n",
    "# Our vectorized test data\n",
    "x_test = vectorize_sequences(test_data)\n",
    "# Our vectorized labels\n",
    "y_train = np.asarray(train_labels).astype('float32')\n",
    "y_test = np.asarray(test_labels).astype('float32')"
   ]
  },
  {
   "cell_type": "markdown",
   "metadata": {},
   "source": [
    "# Fighting overfitting\n",
    "\n",
    "## Reducing the network's size\n",
    "\n",
    "\n",
    "The simplest way to prevent overfitting is to reduce the size of the model, i.e. the number of learnable parameters in the model (which is \n",
    "determined by the number of layers and the number of units per layer). In deep learning, the number of learnable parameters in a model is \n",
    "often referred to as the model's \"capacity\". Intuitively, a model with more parameters will have more \"memorization capacity\" and therefore \n",
    "will be able to easily learn a perfect dictionary-like mapping between training samples and their targets, a mapping without any \n",
    "generalization power. For instance, a model with 500,000 binary parameters could easily be made to learn the class of every digits in the \n",
    "MNIST training set: we would only need 10 binary parameters for each of the 50,000 digits. Such a model would be useless for classifying \n",
    "new digit samples. Always keep this in mind: deep learning models tend to be good at fitting to the training data, but the real challenge \n",
    "is generalization, not fitting.\n",
    "\n",
    "On the other hand, if the network has limited memorization resources, it will not be able to learn this mapping as easily, and thus, in \n",
    "order to minimize its loss, it will have to resort to learning compressed representations that have predictive power regarding the targets \n",
    "-- precisely the type of representations that we are interested in. At the same time, keep in mind that you should be using models that have \n",
    "enough parameters that they won't be underfitting: your model shouldn't be starved for memorization resources. There is a compromise to be \n",
    "found between \"too much capacity\" and \"not enough capacity\".\n",
    "\n",
    "Unfortunately, there is no magical formula to determine what the right number of layers is, or what the right size for each layer is. You \n",
    "will have to evaluate an array of different architectures (on your validation set, not on your test set, of course) in order to find the \n",
    "right model size for your data. The general workflow to find an appropriate model size is to start with relatively few layers and \n",
    "parameters, and start increasing the size of the layers or adding new layers until you see diminishing returns with regard to the \n",
    "validation loss.\n",
    "\n",
    "Let's try this on our movie review classification network. Our original network was as such:"
   ]
  },
  {
   "cell_type": "code",
   "execution_count": 4,
   "metadata": {},
   "outputs": [
    {
     "name": "stdout",
     "output_type": "stream",
     "text": [
      "WARNING:tensorflow:From C:\\ProgramData\\Anaconda3\\envs\\tensorenviron\\lib\\site-packages\\tensorflow\\python\\framework\\op_def_library.py:263: colocate_with (from tensorflow.python.framework.ops) is deprecated and will be removed in a future version.\n",
      "Instructions for updating:\n",
      "Colocations handled automatically by placer.\n"
     ]
    }
   ],
   "source": [
    "from keras import models\n",
    "from keras import layers\n",
    "\n",
    "original_model = models.Sequential()\n",
    "original_model.add(layers.Dense(16, activation='relu', input_shape=(10000,)))\n",
    "original_model.add(layers.Dense(16, activation='relu'))\n",
    "original_model.add(layers.Dense(1, activation='sigmoid'))\n",
    "\n",
    "original_model.compile(optimizer='rmsprop',\n",
    "                       loss='binary_crossentropy',\n",
    "                       metrics=['acc'])"
   ]
  },
  {
   "cell_type": "markdown",
   "metadata": {},
   "source": [
    "Now let's try to replace it with this smaller network:"
   ]
  },
  {
   "cell_type": "code",
   "execution_count": 5,
   "metadata": {},
   "outputs": [],
   "source": [
    "smaller_model = models.Sequential()\n",
    "smaller_model.add(layers.Dense(4, activation='relu', input_shape=(10000,)))\n",
    "smaller_model.add(layers.Dense(4, activation='relu'))\n",
    "smaller_model.add(layers.Dense(1, activation='sigmoid'))\n",
    "\n",
    "smaller_model.compile(optimizer='rmsprop',\n",
    "                      loss='binary_crossentropy',\n",
    "                      metrics=['acc'])"
   ]
  },
  {
   "cell_type": "markdown",
   "metadata": {},
   "source": [
    "\n",
    "Here's a comparison of the validation losses of the original network and the smaller network. The dots are the validation loss values of \n",
    "the smaller network, and the crosses are the initial network (remember: a lower validation loss signals a better model)."
   ]
  },
  {
   "cell_type": "code",
   "execution_count": 6,
   "metadata": {},
   "outputs": [
    {
     "name": "stdout",
     "output_type": "stream",
     "text": [
      "WARNING:tensorflow:From C:\\ProgramData\\Anaconda3\\envs\\tensorenviron\\lib\\site-packages\\tensorflow\\python\\ops\\math_ops.py:3066: to_int32 (from tensorflow.python.ops.math_ops) is deprecated and will be removed in a future version.\n",
      "Instructions for updating:\n",
      "Use tf.cast instead.\n",
      "Train on 25000 samples, validate on 25000 samples\n",
      "Epoch 1/20\n",
      "25000/25000 [==============================] - 9s 379us/step - loss: 0.4441 - acc: 0.8244 - val_loss: 0.3288 - val_acc: 0.8845\n",
      "Epoch 2/20\n",
      "25000/25000 [==============================] - 8s 316us/step - loss: 0.2576 - acc: 0.9081 - val_loss: 0.2861 - val_acc: 0.8887\n",
      "Epoch 3/20\n",
      "25000/25000 [==============================] - 8s 318us/step - loss: 0.1993 - acc: 0.9287 - val_loss: 0.2822 - val_acc: 0.8884\n",
      "Epoch 4/20\n",
      "25000/25000 [==============================] - 8s 318us/step - loss: 0.1668 - acc: 0.9414 - val_loss: 0.2940 - val_acc: 0.8844\n",
      "Epoch 5/20\n",
      "25000/25000 [==============================] - 8s 314us/step - loss: 0.1433 - acc: 0.9498 - val_loss: 0.3118 - val_acc: 0.8804\n",
      "Epoch 6/20\n",
      "25000/25000 [==============================] - 8s 314us/step - loss: 0.1255 - acc: 0.9558 - val_loss: 0.3479 - val_acc: 0.8723\n",
      "Epoch 7/20\n",
      "25000/25000 [==============================] - 8s 318us/step - loss: 0.1108 - acc: 0.9624 - val_loss: 0.3586 - val_acc: 0.8729\n",
      "Epoch 8/20\n",
      "25000/25000 [==============================] - 8s 317us/step - loss: 0.0973 - acc: 0.9673 - val_loss: 0.3946 - val_acc: 0.8668\n",
      "Epoch 9/20\n",
      "25000/25000 [==============================] - 8s 317us/step - loss: 0.0839 - acc: 0.9720 - val_loss: 0.4338 - val_acc: 0.8616\n",
      "Epoch 10/20\n",
      "25000/25000 [==============================] - 8s 315us/step - loss: 0.0748 - acc: 0.9763 - val_loss: 0.5016 - val_acc: 0.8534\n",
      "Epoch 11/20\n",
      "25000/25000 [==============================] - 8s 318us/step - loss: 0.0677 - acc: 0.9785 - val_loss: 0.4822 - val_acc: 0.8599\n",
      "Epoch 12/20\n",
      "25000/25000 [==============================] - 8s 313us/step - loss: 0.0559 - acc: 0.9829 - val_loss: 0.5186 - val_acc: 0.8573\n",
      "Epoch 13/20\n",
      "25000/25000 [==============================] - 8s 318us/step - loss: 0.0501 - acc: 0.9850 - val_loss: 0.5349 - val_acc: 0.8580\n",
      "Epoch 14/20\n",
      "25000/25000 [==============================] - 8s 317us/step - loss: 0.0412 - acc: 0.9880 - val_loss: 0.6265 - val_acc: 0.8494\n",
      "Epoch 15/20\n",
      "25000/25000 [==============================] - 8s 318us/step - loss: 0.0365 - acc: 0.9893 - val_loss: 0.6085 - val_acc: 0.8555\n",
      "Epoch 16/20\n",
      "25000/25000 [==============================] - 8s 325us/step - loss: 0.0293 - acc: 0.9922 - val_loss: 0.6432 - val_acc: 0.8538\n",
      "Epoch 17/20\n",
      "25000/25000 [==============================] - 8s 318us/step - loss: 0.0255 - acc: 0.9928 - val_loss: 0.6823 - val_acc: 0.8522\n",
      "Epoch 18/20\n",
      "25000/25000 [==============================] - 8s 312us/step - loss: 0.0194 - acc: 0.9952 - val_loss: 0.7308 - val_acc: 0.8506\n",
      "Epoch 19/20\n",
      "25000/25000 [==============================] - 8s 311us/step - loss: 0.0201 - acc: 0.9942 - val_loss: 0.7531 - val_acc: 0.8510\n",
      "Epoch 20/20\n",
      "25000/25000 [==============================] - 8s 319us/step - loss: 0.0136 - acc: 0.9964 - val_loss: 0.8212 - val_acc: 0.8468\n"
     ]
    }
   ],
   "source": [
    "original_hist = original_model.fit(x_train, y_train,\n",
    "                                   epochs=20,\n",
    "                                   batch_size=512,\n",
    "                                   validation_data=(x_test, y_test))"
   ]
  },
  {
   "cell_type": "code",
   "execution_count": 7,
   "metadata": {},
   "outputs": [
    {
     "name": "stdout",
     "output_type": "stream",
     "text": [
      "Train on 25000 samples, validate on 25000 samples\n",
      "Epoch 1/20\n",
      "25000/25000 [==============================] - 8s 336us/step - loss: 0.5805 - acc: 0.7022 - val_loss: 0.5308 - val_acc: 0.7562\n",
      "Epoch 2/20\n",
      "25000/25000 [==============================] - 8s 312us/step - loss: 0.4844 - acc: 0.8453 - val_loss: 0.4873 - val_acc: 0.8295\n",
      "Epoch 3/20\n",
      "25000/25000 [==============================] - 8s 315us/step - loss: 0.4390 - acc: 0.8922 - val_loss: 0.4658 - val_acc: 0.8515\n",
      "Epoch 4/20\n",
      "25000/25000 [==============================] - 8s 323us/step - loss: 0.4077 - acc: 0.9152 - val_loss: 0.4529 - val_acc: 0.8652\n",
      "Epoch 5/20\n",
      "25000/25000 [==============================] - 8s 317us/step - loss: 0.3832 - acc: 0.9303 - val_loss: 0.4508 - val_acc: 0.8630\n",
      "Epoch 6/20\n",
      "25000/25000 [==============================] - 8s 313us/step - loss: 0.3618 - acc: 0.9414 - val_loss: 0.4430 - val_acc: 0.8713\n",
      "Epoch 7/20\n",
      "25000/25000 [==============================] - 8s 306us/step - loss: 0.3424 - acc: 0.9513 - val_loss: 0.4490 - val_acc: 0.8673\n",
      "Epoch 8/20\n",
      "25000/25000 [==============================] - 8s 313us/step - loss: 0.3260 - acc: 0.9565 - val_loss: 0.4499 - val_acc: 0.8682\n",
      "Epoch 9/20\n",
      "25000/25000 [==============================] - 8s 309us/step - loss: 0.3101 - acc: 0.9612 - val_loss: 0.4776 - val_acc: 0.8600\n",
      "Epoch 10/20\n",
      "25000/25000 [==============================] - 8s 315us/step - loss: 0.2955 - acc: 0.9659 - val_loss: 0.4804 - val_acc: 0.8605\n",
      "Epoch 11/20\n",
      "25000/25000 [==============================] - 8s 306us/step - loss: 0.2815 - acc: 0.9692 - val_loss: 0.4853 - val_acc: 0.8601\n",
      "Epoch 12/20\n",
      "25000/25000 [==============================] - 8s 308us/step - loss: 0.2688 - acc: 0.9716 - val_loss: 0.4851 - val_acc: 0.8620\n",
      "Epoch 13/20\n",
      "25000/25000 [==============================] - 8s 304us/step - loss: 0.2561 - acc: 0.9750 - val_loss: 0.5131 - val_acc: 0.8583\n",
      "Epoch 14/20\n",
      "25000/25000 [==============================] - 8s 307us/step - loss: 0.2452 - acc: 0.9764 - val_loss: 0.5330 - val_acc: 0.8575\n",
      "Epoch 15/20\n",
      "25000/25000 [==============================] - 8s 317us/step - loss: 0.2339 - acc: 0.9786 - val_loss: 0.5193 - val_acc: 0.8593\n",
      "Epoch 16/20\n",
      "25000/25000 [==============================] - 8s 329us/step - loss: 0.2233 - acc: 0.9804 - val_loss: 0.5421 - val_acc: 0.8576\n",
      "Epoch 17/20\n",
      "25000/25000 [==============================] - 8s 307us/step - loss: 0.2144 - acc: 0.9809 - val_loss: 0.5700 - val_acc: 0.8548\n",
      "Epoch 18/20\n",
      "25000/25000 [==============================] - 8s 312us/step - loss: 0.2049 - acc: 0.9826 - val_loss: 0.6220 - val_acc: 0.8515\n",
      "Epoch 19/20\n",
      "25000/25000 [==============================] - 9s 347us/step - loss: 0.1967 - acc: 0.9836 - val_loss: 0.6206 - val_acc: 0.8516\n",
      "Epoch 20/20\n",
      "25000/25000 [==============================] - 8s 326us/step - loss: 0.1881 - acc: 0.9840 - val_loss: 0.5693 - val_acc: 0.8539\n"
     ]
    }
   ],
   "source": [
    "smaller_model_hist = smaller_model.fit(x_train, y_train,\n",
    "                                       epochs=20,\n",
    "                                       batch_size=512,\n",
    "                                       validation_data=(x_test, y_test))"
   ]
  },
  {
   "cell_type": "code",
   "execution_count": 8,
   "metadata": {},
   "outputs": [],
   "source": [
    "epochs = range(1, 21)\n",
    "original_val_loss = original_hist.history['val_loss']\n",
    "smaller_model_val_loss = smaller_model_hist.history['val_loss']"
   ]
  },
  {
   "cell_type": "code",
   "execution_count": 10,
   "metadata": {},
   "outputs": [
    {
     "data": {
      "image/png": "[encoded data removed]",
      "text/plain": [
       "<Figure size 432x288 with 1 Axes>"
      ]
     },
     "metadata": {
      "needs_background": "light"
     },
     "output_type": "display_data"
    }
   ],
   "source": [
    "import matplotlib.pyplot as plt\n",
    "\n",
    "# b+ is for \"blue cross\"\n",
    "plt.plot(epochs, original_val_loss, 'b+', label='Original model')\n",
    "# \"bo\" is for \"blue dot\"\n",
    "plt.plot(epochs, smaller_model_val_loss, 'bo', label='Smaller model')\n",
    "plt.xlabel('Epochs')\n",
    "plt.ylabel('Validation loss')\n",
    "plt.legend()\n",
    "\n",
    "plt.show()"
   ]
  },
  {
   "cell_type": "markdown",
   "metadata": {},
   "source": [
    "\n",
    "As you can see, the smaller network starts overfitting later than the reference one (after 6 epochs rather than 4) and its performance \n",
    "degrades much more slowly once it starts overfitting.\n",
    "\n",
    "Now, for kicks, let's add to this benchmark a network that has much more capacity, far more than the problem would warrant:"
   ]
  },
  {
   "cell_type": "code",
   "execution_count": 11,
   "metadata": {},
   "outputs": [],
   "source": [
    "bigger_model = models.Sequential()\n",
    "bigger_model.add(layers.Dense(512, activation='relu', input_shape=(10000,)))\n",
    "bigger_model.add(layers.Dense(512, activation='relu'))\n",
    "bigger_model.add(layers.Dense(1, activation='sigmoid'))\n",
    "\n",
    "bigger_model.compile(optimizer='rmsprop',\n",
    "                     loss='binary_crossentropy',\n",
    "                     metrics=['acc'])"
   ]
  },
  {
   "cell_type": "code",
   "execution_count": 12,
   "metadata": {},
   "outputs": [
    {
     "name": "stdout",
     "output_type": "stream",
     "text": [
      "Train on 25000 samples, validate on 25000 samples\n",
      "Epoch 1/20\n",
      "25000/25000 [==============================] - 13s 529us/step - loss: 0.4646 - acc: 0.7932 - val_loss: 0.2869 - val_acc: 0.8878\n",
      "Epoch 2/20\n",
      "25000/25000 [==============================] - 12s 478us/step - loss: 0.2266 - acc: 0.9116 - val_loss: 0.3322 - val_acc: 0.8621\n",
      "Epoch 3/20\n",
      "25000/25000 [==============================] - 12s 482us/step - loss: 0.1416 - acc: 0.9477 - val_loss: 0.3149 - val_acc: 0.8823\n",
      "Epoch 4/20\n",
      "25000/25000 [==============================] - 12s 476us/step - loss: 0.0838 - acc: 0.9780 - val_loss: 0.4132 - val_acc: 0.8816\n",
      "Epoch 5/20\n",
      "25000/25000 [==============================] - 12s 488us/step - loss: 0.0792 - acc: 0.9849 - val_loss: 0.4717 - val_acc: 0.8820\n",
      "Epoch 6/20\n",
      "25000/25000 [==============================] - 12s 479us/step - loss: 0.0795 - acc: 0.9871 - val_loss: 0.4586 - val_acc: 0.8773\n",
      "Epoch 7/20\n",
      "25000/25000 [==============================] - 12s 485us/step - loss: 0.0019 - acc: 0.9999 - val_loss: 0.6486 - val_acc: 0.8799\n",
      "Epoch 8/20\n",
      "25000/25000 [==============================] - 12s 481us/step - loss: 1.6972e-04 - acc: 1.0000 - val_loss: 0.8296 - val_acc: 0.8704\n",
      "Epoch 9/20\n",
      "25000/25000 [==============================] - 12s 476us/step - loss: 0.1021 - acc: 0.9900 - val_loss: 0.8090 - val_acc: 0.8754\n",
      "Epoch 10/20\n",
      "25000/25000 [==============================] - 13s 527us/step - loss: 0.0486 - acc: 0.9920 - val_loss: 0.7529 - val_acc: 0.8625\n",
      "Epoch 11/20\n",
      "25000/25000 [==============================] - 12s 490us/step - loss: 3.3084e-04 - acc: 1.0000 - val_loss: 0.7379 - val_acc: 0.8768\n",
      "Epoch 12/20\n",
      "25000/25000 [==============================] - 12s 489us/step - loss: 3.4443e-05 - acc: 1.0000 - val_loss: 0.8251 - val_acc: 0.8760\n",
      "Epoch 13/20\n",
      "25000/25000 [==============================] - 12s 475us/step - loss: 5.8249e-06 - acc: 1.0000 - val_loss: 0.9214 - val_acc: 0.8780\n",
      "Epoch 14/20\n",
      "25000/25000 [==============================] - 12s 479us/step - loss: 7.7692e-07 - acc: 1.0000 - val_loss: 0.9957 - val_acc: 0.8766\n",
      "Epoch 15/20\n",
      "25000/25000 [==============================] - 12s 470us/step - loss: 2.1634e-07 - acc: 1.0000 - val_loss: 1.0497 - val_acc: 0.8774\n",
      "Epoch 16/20\n",
      "25000/25000 [==============================] - 12s 483us/step - loss: 1.3305e-07 - acc: 1.0000 - val_loss: 1.0812 - val_acc: 0.8774\n",
      "Epoch 17/20\n",
      "25000/25000 [==============================] - 12s 478us/step - loss: 1.1869e-07 - acc: 1.0000 - val_loss: 1.0958 - val_acc: 0.8774\n",
      "Epoch 18/20\n",
      "25000/25000 [==============================] - 12s 484us/step - loss: 1.1457e-07 - acc: 1.0000 - val_loss: 1.1027 - val_acc: 0.8775\n",
      "Epoch 19/20\n",
      "25000/25000 [==============================] - 12s 481us/step - loss: 1.1272e-07 - acc: 1.0000 - val_loss: 1.1096 - val_acc: 0.8775\n",
      "Epoch 20/20\n",
      "25000/25000 [==============================] - 12s 475us/step - loss: 1.1188e-07 - acc: 1.0000 - val_loss: 1.1146 - val_acc: 0.8774\n"
     ]
    }
   ],
   "source": [
    "bigger_model_hist = bigger_model.fit(x_train, y_train,\n",
    "                                     epochs=20,\n",
    "                                     batch_size=512,\n",
    "                                     validation_data=(x_test, y_test))"
   ]
  },
  {
   "cell_type": "markdown",
   "metadata": {},
   "source": [
    "Here's how the bigger network fares compared to the reference one. The dots are the validation loss values of the bigger network, and the \n",
    "crosses are the initial network."
   ]
  },
  {
   "cell_type": "code",
   "execution_count": 13,
   "metadata": {},
   "outputs": [
    {
     "data": {
      "image/png": "[encoded data removed]",
      "text/plain": [
       "<Figure size 432x288 with 1 Axes>"
      ]
     },
     "metadata": {
      "needs_background": "light"
     },
     "output_type": "display_data"
    }
   ],
   "source": [
    "bigger_model_val_loss = bigger_model_hist.history['val_loss']\n",
    "\n",
    "plt.plot(epochs, original_val_loss, 'b+', label='Original model')\n",
    "plt.plot(epochs, bigger_model_val_loss, 'bo', label='Bigger model')\n",
    "plt.xlabel('Epochs')\n",
    "plt.ylabel('Validation loss')\n",
    "plt.legend()\n",
    "\n",
    "plt.show()"
   ]
  },
  {
   "cell_type": "markdown",
   "metadata": {},
   "source": [
    "\n",
    "The bigger network starts overfitting almost right away, after just one epoch, and overfits much more severely. Its validation loss is also \n",
    "more noisy.\n",
    "\n",
    "Meanwhile, here are the training losses for our two networks:"
   ]
  },
  {
   "cell_type": "code",
   "execution_count": 14,
   "metadata": {},
   "outputs": [
    {
     "data": {
      "image/png": "[encoded data removed]",
      "text/plain": [
       "<Figure size 432x288 with 1 Axes>"
      ]
     },
     "metadata": {
      "needs_background": "light"
     },
     "output_type": "display_data"
    }
   ],
   "source": [
    "original_train_loss = original_hist.history['loss']\n",
    "bigger_model_train_loss = bigger_model_hist.history['loss']\n",
    "\n",
    "plt.plot(epochs, original_train_loss, 'b+', label='Original model')\n",
    "plt.plot(epochs, bigger_model_train_loss, 'bo', label='Bigger model')\n",
    "plt.xlabel('Epochs')\n",
    "plt.ylabel('Training loss')\n",
    "plt.legend()\n",
    "\n",
    "plt.show()"
   ]
  },
  {
   "cell_type": "markdown",
   "metadata": {},
   "source": [
    "As you can see, the bigger network gets its training loss near zero very quickly. The more capacity the network has, the quicker it will be \n",
    "able to model the training data (resulting in a low training loss), but the more susceptible it is to overfitting (resulting in a large \n",
    "difference between the training and validation loss)."
   ]
  },
  {
   "cell_type": "markdown",
   "metadata": {},
   "source": [
    "## Adding weight regularization\n",
    "\n",
    "\n",
    "You may be familiar with _Occam's Razor_ principle: given two explanations for something, the explanation most likely to be correct is the \n",
    "\"simplest\" one, the one that makes the least amount of assumptions. This also applies to the models learned by neural networks: given some \n",
    "training data and a network architecture, there are multiple sets of weights values (multiple _models_) that could explain the data, and \n",
    "simpler models are less likely to overfit than complex ones.\n",
    "\n",
    "A \"simple model\" in this context is a model where the distribution of parameter values has less entropy (or a model with fewer \n",
    "parameters altogether, as we saw in the section above). Thus a common way to mitigate overfitting is to put constraints on the complexity \n",
    "of a network by forcing its weights to only take small values, which makes the distribution of weight values more \"regular\". This is called \n",
    "\"weight regularization\", and it is done by adding to the loss function of the network a _cost_ associated with having large weights. This \n",
    "cost comes in two flavors:\n",
    "\n",
    "* L1 regularization, where the cost added is proportional to the _absolute value of the weights coefficients_ (i.e. to what is called the \n",
    "\"L1 norm\" of the weights).\n",
    "* L2 regularization, where the cost added is proportional to the _square of the value of the weights coefficients_ (i.e. to what is called \n",
    "the \"L2 norm\" of the weights). L2 regularization is also called _weight decay_ in the context of neural networks. Don't let the different \n",
    "name confuse you: weight decay is mathematically the exact same as L2 regularization.\n",
    "\n",
    "In Keras, weight regularization is added by passing _weight regularizer instances_ to layers as keyword arguments. Let's add L2 weight \n",
    "regularization to our movie review classification network:"
   ]
  },
  {
   "cell_type": "code",
   "execution_count": 15,
   "metadata": {},
   "outputs": [],
   "source": [
    "from keras import regularizers\n",
    "\n",
    "l2_model = models.Sequential()\n",
    "l2_model.add(layers.Dense(16, kernel_regularizer=regularizers.l2(0.001),\n",
    "                          activation='relu', input_shape=(10000,)))\n",
    "l2_model.add(layers.Dense(16, kernel_regularizer=regularizers.l2(0.001),\n",
    "                          activation='relu'))\n",
    "l2_model.add(layers.Dense(1, activation='sigmoid'))"
   ]
  },
  {
   "cell_type": "code",
   "execution_count": 16,
   "metadata": {},
   "outputs": [],
   "source": [
    "l2_model.compile(optimizer='rmsprop',\n",
    "                 loss='binary_crossentropy',\n",
    "                 metrics=['acc'])"
   ]
  },
  {
   "cell_type": "markdown",
   "metadata": {},
   "source": [
    "`l2(0.001)` means that every coefficient in the weight matrix of the layer will add `0.001 * weight_coefficient_value` to the total loss of \n",
    "the network. Note that because this penalty is _only added at training time_, the loss for this network will be much higher at training \n",
    "than at test time.\n",
    "\n",
    "Here's the impact of our L2 regularization penalty:"
   ]
  },
  {
   "cell_type": "code",
   "execution_count": 17,
   "metadata": {},
   "outputs": [
    {
     "name": "stdout",
     "output_type": "stream",
     "text": [
      "Train on 25000 samples, validate on 25000 samples\n",
      "Epoch 1/20\n",
      "25000/25000 [==============================] - 9s 366us/step - loss: 0.4886 - acc: 0.8147 - val_loss: 0.3888 - val_acc: 0.8664\n",
      "Epoch 2/20\n",
      "25000/25000 [==============================] - 8s 317us/step - loss: 0.3103 - acc: 0.9058 - val_loss: 0.3308 - val_acc: 0.8888\n",
      "Epoch 3/20\n",
      "25000/25000 [==============================] - 8s 321us/step - loss: 0.2656 - acc: 0.9201 - val_loss: 0.3300 - val_acc: 0.8871\n",
      "Epoch 4/20\n",
      "25000/25000 [==============================] - 8s 322us/step - loss: 0.2459 - acc: 0.9286 - val_loss: 0.3410 - val_acc: 0.8823\n",
      "Epoch 5/20\n",
      "25000/25000 [==============================] - 8s 324us/step - loss: 0.2323 - acc: 0.9350 - val_loss: 0.3821 - val_acc: 0.8682\n",
      "Epoch 6/20\n",
      "25000/25000 [==============================] - 8s 322us/step - loss: 0.2241 - acc: 0.9388 - val_loss: 0.3660 - val_acc: 0.8756\n",
      "Epoch 7/20\n",
      "25000/25000 [==============================] - 8s 323us/step - loss: 0.2174 - acc: 0.9410 - val_loss: 0.3745 - val_acc: 0.8733\n",
      "Epoch 8/20\n",
      "25000/25000 [==============================] - 8s 324us/step - loss: 0.2110 - acc: 0.9443 - val_loss: 0.3724 - val_acc: 0.8752\n",
      "Epoch 9/20\n",
      "25000/25000 [==============================] - 8s 319us/step - loss: 0.2050 - acc: 0.9460 - val_loss: 0.3761 - val_acc: 0.8753\n",
      "Epoch 10/20\n",
      "25000/25000 [==============================] - 8s 315us/step - loss: 0.2015 - acc: 0.9498 - val_loss: 0.3821 - val_acc: 0.8744\n",
      "Epoch 11/20\n",
      "25000/25000 [==============================] - 8s 320us/step - loss: 0.1958 - acc: 0.9493 - val_loss: 0.3837 - val_acc: 0.8753\n",
      "Epoch 12/20\n",
      "25000/25000 [==============================] - 8s 327us/step - loss: 0.1931 - acc: 0.9510 - val_loss: 0.3946 - val_acc: 0.8735\n",
      "Epoch 13/20\n",
      "25000/25000 [==============================] - 8s 318us/step - loss: 0.1888 - acc: 0.9533 - val_loss: 0.3965 - val_acc: 0.8727\n",
      "Epoch 14/20\n",
      "25000/25000 [==============================] - 8s 318us/step - loss: 0.1827 - acc: 0.9559 - val_loss: 0.4262 - val_acc: 0.8650\n",
      "Epoch 15/20\n",
      "25000/25000 [==============================] - 8s 319us/step - loss: 0.1824 - acc: 0.9569 - val_loss: 0.4562 - val_acc: 0.8572\n",
      "Epoch 16/20\n",
      "25000/25000 [==============================] - 8s 322us/step - loss: 0.1766 - acc: 0.9589 - val_loss: 0.4577 - val_acc: 0.8624\n",
      "Epoch 17/20\n",
      "25000/25000 [==============================] - 8s 319us/step - loss: 0.1724 - acc: 0.9605 - val_loss: 0.4207 - val_acc: 0.8697\n",
      "Epoch 18/20\n",
      "25000/25000 [==============================] - 8s 314us/step - loss: 0.1698 - acc: 0.9614 - val_loss: 0.4409 - val_acc: 0.8678\n",
      "Epoch 19/20\n",
      "25000/25000 [==============================] - 8s 317us/step - loss: 0.1659 - acc: 0.9637 - val_loss: 0.4373 - val_acc: 0.8675\n",
      "Epoch 20/20\n",
      "25000/25000 [==============================] - 8s 323us/step - loss: 0.1595 - acc: 0.9668 - val_loss: 0.4301 - val_acc: 0.8702\n"
     ]
    }
   ],
   "source": [
    "l2_model_hist = l2_model.fit(x_train, y_train,\n",
    "                             epochs=20,\n",
    "                             batch_size=512,\n",
    "                             validation_data=(x_test, y_test))"
   ]
  },
  {
   "cell_type": "code",
   "execution_count": 18,
   "metadata": {},
   "outputs": [
    {
     "data": {
      "image/png": "[encoded data removed]",
      "text/plain": [
       "<Figure size 432x288 with 1 Axes>"
      ]
     },
     "metadata": {
      "needs_background": "light"
     },
     "output_type": "display_data"
    }
   ],
   "source": [
    "l2_model_val_loss = l2_model_hist.history['val_loss']\n",
    "\n",
    "plt.plot(epochs, original_val_loss, 'b+', label='Original model')\n",
    "plt.plot(epochs, l2_model_val_loss, 'bo', label='L2-regularized model')\n",
    "plt.xlabel('Epochs')\n",
    "plt.ylabel('Validation loss')\n",
    "plt.legend()\n",
    "\n",
    "plt.show()"
   ]
  },
  {
   "cell_type": "markdown",
   "metadata": {},
   "source": [
    "\n",
    "\n",
    "As you can see, the model with L2 regularization (dots) has become much more resistant to overfitting than the reference model (crosses), \n",
    "even though both models have the same number of parameters.\n",
    "\n",
    "As alternatives to L2 regularization, you could use one of the following Keras weight regularizers:"
   ]
  },
  {
   "cell_type": "code",
   "execution_count": 20,
   "metadata": {},
   "outputs": [
    {
     "data": {
      "text/plain": [
       "<keras.regularizers.L1L2 at 0x1f18f685198>"
      ]
     },
     "execution_count": 20,
     "metadata": {},
     "output_type": "execute_result"
    }
   ],
   "source": [
    "from keras import regularizers\n",
    "\n",
    "# L1 regularization\n",
    "regularizers.l1(0.001)\n",
    "\n",
    "# L1 and L2 regularization at the same time\n",
    "regularizers.l1_l2(l1=0.001, l2=0.001)"
   ]
  },
  {
   "cell_type": "markdown",
   "metadata": {},
   "source": [
    "## Adding dropout\n",
    "\n",
    "\n",
    "Dropout is one of the most effective and most commonly used regularization techniques for neural networks, developed by Hinton and his \n",
    "students at the University of Toronto. Dropout, applied to a layer, consists of randomly \"dropping out\" (i.e. setting to zero) a number of \n",
    "output features of the layer during training. Let's say a given layer would normally have returned a vector `[0.2, 0.5, 1.3, 0.8, 1.1]` for a \n",
    "given input sample during training; after applying dropout, this vector will have a few zero entries distributed at random, e.g. `[0, 0.5, \n",
    "1.3, 0, 1.1]`. The \"dropout rate\" is the fraction of the features that are being zeroed-out; it is usually set between 0.2 and 0.5. At test \n",
    "time, no units are dropped out, and instead the layer's output values are scaled down by a factor equal to the dropout rate, so as to \n",
    "balance for the fact that more units are active than at training time.\n",
    "\n",
    "Consider a Numpy matrix containing the output of a layer, `layer_output`, of shape `(batch_size, features)`. At training time, we would be \n",
    "zero-ing out at random a fraction of the values in the matrix:"
   ]
  },
  {
   "cell_type": "code",
   "execution_count": 21,
   "metadata": {},
   "outputs": [
    {
     "ename": "NameError",
     "evalue": "name 'layer_output' is not defined",
     "output_type": "error",
     "traceback": [
      "\u001b[1;31m---------------------------------------------------------------------------\u001b[0m",
      "\u001b[1;31mNameError\u001b[0m                                 Traceback (most recent call last)",
      "\u001b[1;32m<ipython-input-21-f1f187ff4a2c>\u001b[0m in \u001b[0;36m<module>\u001b[1;34m\u001b[0m\n\u001b[0;32m      1\u001b[0m \u001b[1;31m# At training time: we drop out 50% of the units in the output\u001b[0m\u001b[1;33m\u001b[0m\u001b[1;33m\u001b[0m\u001b[1;33m\u001b[0m\u001b[0m\n\u001b[1;32m----> 2\u001b[1;33m \u001b[0mlayer_output\u001b[0m \u001b[1;33m*=\u001b[0m \u001b[0mnp\u001b[0m\u001b[1;33m.\u001b[0m\u001b[0mrandint\u001b[0m\u001b[1;33m(\u001b[0m\u001b[1;36m0\u001b[0m\u001b[1;33m,\u001b[0m \u001b[0mhigh\u001b[0m\u001b[1;33m=\u001b[0m\u001b[1;36m2\u001b[0m\u001b[1;33m,\u001b[0m \u001b[0msize\u001b[0m\u001b[1;33m=\u001b[0m\u001b[0mlayer_output\u001b[0m\u001b[1;33m.\u001b[0m\u001b[0mshape\u001b[0m\u001b[1;33m)\u001b[0m\u001b[1;33m\u001b[0m\u001b[1;33m\u001b[0m\u001b[0m\n\u001b[0m",
      "\u001b[1;31mNameError\u001b[0m: name 'layer_output' is not defined"
     ]
    }
   ],
   "source": [
    "# At training time: we drop out 50% of the units in the output\n",
    "layer_output *= np.randint(0, high=2, size=layer_output.shape)"
   ]
  },
  {
   "cell_type": "markdown",
   "metadata": {},
   "source": [
    "\n",
    "At test time, we would be scaling the output down by the dropout rate. Here we scale by 0.5 (because we were previous dropping half the \n",
    "units):"
   ]
  },
  {
   "cell_type": "code",
   "execution_count": null,
   "metadata": {
    "collapsed": true
   },
   "outputs": [],
   "source": [
    "# At test time:\n",
    "layer_output *= 0.5"
   ]
  },
  {
   "cell_type": "markdown",
   "metadata": {},
   "source": [
    "\n",
    "Note that this process can be implemented by doing both operations at training time and leaving the output unchanged at test time, which is \n",
    "often the way it is implemented in practice:"
   ]
  },
  {
   "cell_type": "code",
   "execution_count": null,
   "metadata": {
    "collapsed": true
   },
   "outputs": [],
   "source": [
    "# At training time:\n",
    "layer_output *= np.randint(0, high=2, size=layer_output.shape)\n",
    "# Note that we are scaling *up* rather scaling *down* in this case\n",
    "layer_output /= 0.5"
   ]
  },
  {
   "cell_type": "markdown",
   "metadata": {},
   "source": [
    "\n",
    "This technique may seem strange and arbitrary. Why would this help reduce overfitting? Geoff Hinton has said that he was inspired, among \n",
    "other things, by a fraud prevention mechanism used by banks -- in his own words: _\"I went to my bank. The tellers kept changing and I asked \n",
    "one of them why. He said he didn’t know but they got moved around a lot. I figured it must be because it would require cooperation \n",
    "between employees to successfully defraud the bank. This made me realize that randomly removing a different subset of neurons on each \n",
    "example would prevent conspiracies and thus reduce overfitting\"_.\n",
    "\n",
    "The core idea is that introducing noise in the output values of a layer can break up happenstance patterns that are not significant (what \n",
    "Hinton refers to as \"conspiracies\"), which the network would start memorizing if no noise was present. \n",
    "\n",
    "In Keras you can introduce dropout in a network via the `Dropout` layer, which gets applied to the output of layer right before it, e.g.:"
   ]
  },
  {
   "cell_type": "code",
   "execution_count": 22,
   "metadata": {},
   "outputs": [
    {
     "ename": "NameError",
     "evalue": "name 'model' is not defined",
     "output_type": "error",
     "traceback": [
      "\u001b[1;31m---------------------------------------------------------------------------\u001b[0m",
      "\u001b[1;31mNameError\u001b[0m                                 Traceback (most recent call last)",
      "\u001b[1;32m<ipython-input-22-65ed89de200e>\u001b[0m in \u001b[0;36m<module>\u001b[1;34m\u001b[0m\n\u001b[1;32m----> 1\u001b[1;33m \u001b[0mmodel\u001b[0m\u001b[1;33m.\u001b[0m\u001b[0madd\u001b[0m\u001b[1;33m(\u001b[0m\u001b[0mlayers\u001b[0m\u001b[1;33m.\u001b[0m\u001b[0mDropout\u001b[0m\u001b[1;33m(\u001b[0m\u001b[1;36m0.5\u001b[0m\u001b[1;33m)\u001b[0m\u001b[1;33m)\u001b[0m\u001b[1;33m\u001b[0m\u001b[1;33m\u001b[0m\u001b[0m\n\u001b[0m",
      "\u001b[1;31mNameError\u001b[0m: name 'model' is not defined"
     ]
    }
   ],
   "source": [
    "model.add(layers.Dropout(0.5))"
   ]
  },
  {
   "cell_type": "markdown",
   "metadata": {},
   "source": [
    "Let's add two `Dropout` layers in our IMDB network to see how well they do at reducing overfitting:"
   ]
  },
  {
   "cell_type": "code",
   "execution_count": 23,
   "metadata": {},
   "outputs": [
    {
     "name": "stdout",
     "output_type": "stream",
     "text": [
      "WARNING:tensorflow:From C:\\ProgramData\\Anaconda3\\envs\\tensorenviron\\lib\\site-packages\\keras\\backend\\tensorflow_backend.py:3445: calling dropout (from tensorflow.python.ops.nn_ops) with keep_prob is deprecated and will be removed in a future version.\n",
      "Instructions for updating:\n",
      "Please use `rate` instead of `keep_prob`. Rate should be set to `rate = 1 - keep_prob`.\n"
     ]
    }
   ],
   "source": [
    "dpt_model = models.Sequential()\n",
    "dpt_model.add(layers.Dense(16, activation='relu', input_shape=(10000,)))\n",
    "dpt_model.add(layers.Dropout(0.5))\n",
    "dpt_model.add(layers.Dense(16, activation='relu'))\n",
    "dpt_model.add(layers.Dropout(0.5))\n",
    "dpt_model.add(layers.Dense(1, activation='sigmoid'))\n",
    "\n",
    "dpt_model.compile(optimizer='rmsprop',\n",
    "                  loss='binary_crossentropy',\n",
    "                  metrics=['acc'])"
   ]
  },
  {
   "cell_type": "code",
   "execution_count": 24,
   "metadata": {},
   "outputs": [
    {
     "name": "stdout",
     "output_type": "stream",
     "text": [
      "Train on 25000 samples, validate on 25000 samples\n",
      "Epoch 1/20\n",
      "25000/25000 [==============================] - 10s 383us/step - loss: 0.5906 - acc: 0.6836 - val_loss: 0.4312 - val_acc: 0.8629\n",
      "Epoch 2/20\n",
      "25000/25000 [==============================] - 8s 325us/step - loss: 0.4364 - acc: 0.8181 - val_loss: 0.3482 - val_acc: 0.8698\n",
      "Epoch 3/20\n",
      "25000/25000 [==============================] - 8s 320us/step - loss: 0.3472 - acc: 0.8717 - val_loss: 0.2895 - val_acc: 0.8876\n",
      "Epoch 4/20\n",
      "25000/25000 [==============================] - 8s 320us/step - loss: 0.2881 - acc: 0.8989 - val_loss: 0.2767 - val_acc: 0.8878\n",
      "Epoch 5/20\n",
      "25000/25000 [==============================] - 8s 322us/step - loss: 0.2539 - acc: 0.9142 - val_loss: 0.2799 - val_acc: 0.8888\n",
      "Epoch 6/20\n",
      "25000/25000 [==============================] - 8s 325us/step - loss: 0.2226 - acc: 0.9269 - val_loss: 0.2885 - val_acc: 0.8870\n",
      "Epoch 7/20\n",
      "25000/25000 [==============================] - 8s 320us/step - loss: 0.1968 - acc: 0.9360 - val_loss: 0.3191 - val_acc: 0.8858\n",
      "Epoch 8/20\n",
      "25000/25000 [==============================] - 8s 320us/step - loss: 0.1777 - acc: 0.9430 - val_loss: 0.3337 - val_acc: 0.8850\n",
      "Epoch 9/20\n",
      "25000/25000 [==============================] - 8s 313us/step - loss: 0.1719 - acc: 0.9459 - val_loss: 0.3502 - val_acc: 0.8842\n",
      "Epoch 10/20\n",
      "25000/25000 [==============================] - 8s 316us/step - loss: 0.1521 - acc: 0.9501 - val_loss: 0.3710 - val_acc: 0.8830\n",
      "Epoch 11/20\n",
      "25000/25000 [==============================] - 8s 326us/step - loss: 0.1457 - acc: 0.9536 - val_loss: 0.3977 - val_acc: 0.8813\n",
      "Epoch 12/20\n",
      "25000/25000 [==============================] - 8s 320us/step - loss: 0.1376 - acc: 0.9579 - val_loss: 0.4491 - val_acc: 0.8732\n",
      "Epoch 13/20\n",
      "25000/25000 [==============================] - 8s 338us/step - loss: 0.1260 - acc: 0.9594 - val_loss: 0.4538 - val_acc: 0.8763\n",
      "Epoch 14/20\n",
      "25000/25000 [==============================] - 8s 331us/step - loss: 0.1207 - acc: 0.9608 - val_loss: 0.4589 - val_acc: 0.8761\n",
      "Epoch 15/20\n",
      "25000/25000 [==============================] - 8s 331us/step - loss: 0.1139 - acc: 0.9634 - val_loss: 0.4849 - val_acc: 0.8740\n",
      "Epoch 16/20\n",
      "25000/25000 [==============================] - 8s 330us/step - loss: 0.1150 - acc: 0.9643 - val_loss: 0.5107 - val_acc: 0.8759\n",
      "Epoch 17/20\n",
      "25000/25000 [==============================] - 8s 328us/step - loss: 0.1095 - acc: 0.9660 - val_loss: 0.5348 - val_acc: 0.8749\n",
      "Epoch 18/20\n",
      "25000/25000 [==============================] - 8s 321us/step - loss: 0.1065 - acc: 0.9672 - val_loss: 0.5291 - val_acc: 0.8736\n",
      "Epoch 19/20\n",
      "25000/25000 [==============================] - 8s 330us/step - loss: 0.0982 - acc: 0.9684 - val_loss: 0.5812 - val_acc: 0.8729\n",
      "Epoch 20/20\n",
      "25000/25000 [==============================] - 8s 318us/step - loss: 0.1015 - acc: 0.9694 - val_loss: 0.5750 - val_acc: 0.8698\n"
     ]
    }
   ],
   "source": [
    "dpt_model_hist = dpt_model.fit(x_train, y_train,\n",
    "                               epochs=20,\n",
    "                               batch_size=512,\n",
    "                               validation_data=(x_test, y_test))"
   ]
  },
  {
   "cell_type": "markdown",
   "metadata": {},
   "source": [
    "Let's plot the results:"
   ]
  },
  {
   "cell_type": "code",
   "execution_count": 25,
   "metadata": {},
   "outputs": [
    {
     "data": {
      "image/png": "[encoded data removed]",
      "text/plain": [
       "<Figure size 432x288 with 1 Axes>"
      ]
     },
     "metadata": {
      "needs_background": "light"
     },
     "output_type": "display_data"
    }
   ],
   "source": [
    "dpt_model_val_loss = dpt_model_hist.history['val_loss']\n",
    "\n",
    "plt.plot(epochs, original_val_loss, 'b+', label='Original model')\n",
    "plt.plot(epochs, dpt_model_val_loss, 'bo', label='Dropout-regularized model')\n",
    "plt.xlabel('Epochs')\n",
    "plt.ylabel('Validation loss')\n",
    "plt.legend()\n",
    "\n",
    "plt.show()"
   ]
  },
  {
   "cell_type": "markdown",
   "metadata": {},
   "source": [
    "\n",
    "Again, a clear improvement over the reference network.\n",
    "\n",
    "To recap: here the most common ways to prevent overfitting in neural networks:\n",
    "\n",
    "* Getting more training data.\n",
    "* Reducing the capacity of the network.\n",
    "* Adding weight regularization.\n",
    "* Adding dropout."
   ]
  }
 ],
 "metadata": {
  "kernelspec": {
   "display_name": "Python 3",
   "language": "python",
   "name": "python3"
  },
  "language_info": {
   "codemirror_mode": {
    "name": "ipython",
    "version": 3
   },
   "file_extension": ".py",
   "mimetype": "text/x-python",
   "name": "python",
   "nbconvert_exporter": "python",
   "pygments_lexer": "ipython3",
   "version": "3.7.3"
  }
 },
 "nbformat": 4,
 "nbformat_minor": 2
}
